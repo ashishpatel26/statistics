{
 "cells": [
  {
   "cell_type": "markdown",
   "metadata": {},
   "source": [
    "## Hypothesis Testing\n",
    "\n",
    "![](https://i0.wp.com/www.de.sarupub.org/wp-content/uploads/Hypothesis-meaning-for-Qantitative-and-Qualitative-data.jpg)\n",
    "\n",
    "The “hypothesis” refers to the researcher’s initial belief about the situation before the study"
   ]
  },
  {
   "cell_type": "markdown",
   "metadata": {},
   "source": [
    "A **Hypothesis test** is a statistical test that is used to determine whether there is enough evidence in a sample of data to infer that a certain condition is true for the entire population.\n",
    "\n",
    "A hypothesis test examines two opposing hypotheses about a population: the null hypothesis and the alternative hypothesis.\n",
    "\n",
    "\n",
    "> Null hypothesis (H0):\n",
    "\n",
    "The null hypothesis states that a population parameter is equal to a value. The null hypothesis is often an initial claim that researchers specify using previous research or knowledge.\n",
    "\n",
    "> Alternative Hypothesis (H1):\n",
    "\n",
    "The alternative hypothesis states that the population parameter is different than the value of the population parameter in the null hypothesis. The alternative hypothesis is what you might believe to be true or hope to prove true.\n",
    "\n",
    "Based on the sample data, the test determines whether to reject the null hypothesis.\n",
    "\n",
    "__Hypothesis Testing of Quantitative Data__\n",
    "\n",
    "Example\n",
    "\n",
    "H0: I believe that the mean Milli litre of Juices consumed yearly is 200 Ml\n",
    "\n",
    "Hypothesis for Quantitative Data has numbers as the base to verify or test with. In the above example we have to test whether the mean juice consumed per year is 200 ml from the data collected or the calculated mean or assumed mean. The data is scale data.\n",
    "\n",
    "__Hypothesis Testing of Qualitative Data__\n",
    "\n",
    "H0: There is no association between gender and the type of juice consumed\n",
    "\n",
    "Hypothesis for Qualitative Data does not have numbers. The data is nominal or ordinal. The result of the hypothesis is Accepting the null hypothesis (Ho) or Rejecting the null hypothesis (H0).\n",
    "\n"
   ]
  },
  {
   "cell_type": "markdown",
   "metadata": {},
   "source": [
    "![Example 1](https://zalarieunique.ru/images/data-clipart-hypothesis-testing-2.gif)\n",
    "\n",
    "\n",
    "Another Example :\n",
    "\n",
    "__Hypothesis Test__ :\n",
    "\n",
    "You like a girl very much. However you are not very sure if she likes you too. Still you took chance and decided to propose her.Now in this scenario , you know there is going to  be only two results . Yes or NO. Now , here your girl is an hard core statician. She would anser you in statistical terms.\n",
    "\n",
    "**Assumption (H0)** : You assumed that her reply will be NO.\n",
    "\n",
    "**Chances (H1)** : She might say yes.\n",
    "    \n",
    "You : Hey Miss , I love and i want to marry you.\n",
    "    \n",
    "Girl : Okay , i reject the null Hypothesis.\n",
    "    \n",
    "__Result__ : Yes , she has said yes to your proposal. Because the null hypotheis was rejected. However she rejected the rejection result and hence rejecting the rejection hypotheis means she has accepted the alternate hopthesis."
   ]
  },
  {
   "cell_type": "markdown",
   "metadata": {},
   "source": [
    "Based on the sample data, the test determines whether to reject the null hypothesis. You use a **p-value**, to make the determination. If the p-value is less than or equal to the level of significance, which is a cut-off point that you define, and then you can reject the null hypothesis."
   ]
  },
  {
   "cell_type": "markdown",
   "metadata": {},
   "source": [
    "You can follow four basic steps to correctly set up and perform a hypothesis test. \n",
    "\n",
    "1. Formulate Hypothesis ,( Null : Ho and Alternate : H1)\n",
    "2. Identify the level of significance\n",
    "3. Select the appropriate statistical tests\n",
    "4. Calculate test statistics\n",
    "5. Make decision (reject or fail to reject the null hypothesis)"
   ]
  },
  {
   "cell_type": "markdown",
   "metadata": {},
   "source": [
    "### Various kind of hypothesis Test exists :\n",
    "    \n",
    "1. **Normal Distribution** (Z-test )<br>\n",
    "2. **Student t Distribution**(T-Test ) <br>\n",
    "3. **ANOVA**(F-test )<br>\n"
   ]
  },
  {
   "cell_type": "markdown",
   "metadata": {},
   "source": [
    "**The p-value is a probability**. \n",
    "\n",
    "A p-value is the probability that the results from your sample data occurred by chance. P-values are from 0% to 100%. They are usually written as a decimal. For example, a p value of 5% is 0.05. Low p-values are good; They indicate your data did not occur by chance. For example, a p-value of .01 means there is only a 1% probability that the results from an experiment happened by chance. In most cases, a p-value of 0.05 (5%) is accepted to mean the data is valid.  When the p-value is very small, it means it is very unlikely (small probability) that the observed spatial pattern is the result of random processes, so you can reject the null hypothesis."
   ]
  },
  {
   "cell_type": "markdown",
   "metadata": {},
   "source": [
    "## Z-test \n",
    "\n",
    "**Z-score **\n",
    "\n",
    "**Z-scores are standard deviations**. If, for example, a tool returns a z-score of +2.5, you would say that the result is 2.5 standard deviations. In statistics, instead of saying our data is two standard deviations from the mean, we assess it in terms of a z-score, which just represents the number of standard deviations a point is from the mean. \n",
    "\n",
    "Both z-scores and p-values are associated with the standard normal distribution as shown below.\n",
    "\n",
    "![](http://pro.arcgis.com/en/pro-app/tool-reference/spatial-statistics/GUID-CBF63B74-D1B2-44FC-A316-7AC2B1C1D464-web.png)\n",
    "\n",
    "Consequently, before you run the test statistic, you select a confidence level. Typical confidence levels are 90, 95, or 99 percent. \n",
    "\n",
    "A confidence level of 99 percent would be the most conservative in this case, indicating that you are unwilling to reject the null hypothesis unless the probability that the pattern was created by random chance is really small (less than a 1 percent probability).\n",
    "\n",
    "\n",
    "\n",
    "![](assets/ztop.png)"
   ]
  },
  {
   "cell_type": "code",
   "execution_count": 49,
   "metadata": {},
   "outputs": [],
   "source": [
    "## Convert z-score to z-normal-distribution\n",
    "\n",
    "## Note : percentage point function (ppf) is the inverse of the cdf\n",
    "import scipy.stats as st\n",
    "import scipy\n",
    "\n",
    "def z_to_p_distribution(z=1.6445) : \n",
    "     return 1 - st.norm.cdf(z)\n",
    "\n",
    "# def p_distribution_to_z(percent=0.95):\n",
    "#     return st.norm.ppf(percent)"
   ]
  },
  {
   "cell_type": "code",
   "execution_count": 32,
   "metadata": {
    "_cell_guid": "3ef82d69-83cd-8ce5-49da-98d3760ba1f3"
   },
   "outputs": [],
   "source": [
    "%matplotlib inline\n",
    "import pandas as pd\n",
    "import numpy as np\n",
    "import statistics\n",
    "import seaborn as sns\n",
    "import matplotlib.pyplot as plt\n",
    "from subprocess import check_output\n",
    "from scipy import stats"
   ]
  },
  {
   "cell_type": "code",
   "execution_count": 33,
   "metadata": {
    "_cell_guid": "aaa9b895-2309-9dd4-121b-05e2278187bd"
   },
   "outputs": [],
   "source": [
    "payroll = pd.read_csv(\"../datasets/pay_roll_dataset.csv\")"
   ]
  },
  {
   "cell_type": "code",
   "execution_count": 34,
   "metadata": {},
   "outputs": [
    {
     "data": {
      "text/html": [
       "<div>\n",
       "<style scoped>\n",
       "    .dataframe tbody tr th:only-of-type {\n",
       "        vertical-align: middle;\n",
       "    }\n",
       "\n",
       "    .dataframe tbody tr th {\n",
       "        vertical-align: top;\n",
       "    }\n",
       "\n",
       "    .dataframe thead th {\n",
       "        text-align: right;\n",
       "    }\n",
       "</style>\n",
       "<table border=\"1\" class=\"dataframe\">\n",
       "  <thead>\n",
       "    <tr style=\"text-align: right;\">\n",
       "      <th></th>\n",
       "      <th>Row ID</th>\n",
       "      <th>Year</th>\n",
       "      <th>Payroll Department</th>\n",
       "      <th>FMS Department</th>\n",
       "      <th>Job Class</th>\n",
       "    </tr>\n",
       "  </thead>\n",
       "  <tbody>\n",
       "    <tr>\n",
       "      <th>count</th>\n",
       "      <td>285008.000000</td>\n",
       "      <td>285008.000000</td>\n",
       "      <td>231463.000000</td>\n",
       "      <td>285008.000000</td>\n",
       "      <td>285008.000000</td>\n",
       "    </tr>\n",
       "    <tr>\n",
       "      <th>mean</th>\n",
       "      <td>142544.329759</td>\n",
       "      <td>2014.786701</td>\n",
       "      <td>4557.472067</td>\n",
       "      <td>66.271340</td>\n",
       "      <td>3051.039967</td>\n",
       "    </tr>\n",
       "    <tr>\n",
       "      <th>std</th>\n",
       "      <td>82330.135857</td>\n",
       "      <td>1.161369</td>\n",
       "      <td>2508.764234</td>\n",
       "      <td>29.304236</td>\n",
       "      <td>2038.694130</td>\n",
       "    </tr>\n",
       "    <tr>\n",
       "      <th>min</th>\n",
       "      <td>1.000000</td>\n",
       "      <td>2013.000000</td>\n",
       "      <td>101.000000</td>\n",
       "      <td>2.000000</td>\n",
       "      <td>1.000000</td>\n",
       "    </tr>\n",
       "    <tr>\n",
       "      <th>25%</th>\n",
       "      <td>71252.750000</td>\n",
       "      <td>2014.000000</td>\n",
       "      <td>3001.000000</td>\n",
       "      <td>42.000000</td>\n",
       "      <td>1960.000000</td>\n",
       "    </tr>\n",
       "    <tr>\n",
       "      <th>50%</th>\n",
       "      <td>142504.500000</td>\n",
       "      <td>2015.000000</td>\n",
       "      <td>4301.000000</td>\n",
       "      <td>70.000000</td>\n",
       "      <td>2234.000000</td>\n",
       "    </tr>\n",
       "    <tr>\n",
       "      <th>75%</th>\n",
       "      <td>213756.250000</td>\n",
       "      <td>2016.000000</td>\n",
       "      <td>7031.000000</td>\n",
       "      <td>88.000000</td>\n",
       "      <td>3580.000000</td>\n",
       "    </tr>\n",
       "    <tr>\n",
       "      <th>max</th>\n",
       "      <td>285208.000000</td>\n",
       "      <td>2016.000000</td>\n",
       "      <td>8702.000000</td>\n",
       "      <td>98.000000</td>\n",
       "      <td>9998.000000</td>\n",
       "    </tr>\n",
       "  </tbody>\n",
       "</table>\n",
       "</div>"
      ],
      "text/plain": [
       "              Row ID           Year  Payroll Department  FMS Department  \\\n",
       "count  285008.000000  285008.000000       231463.000000   285008.000000   \n",
       "mean   142544.329759    2014.786701         4557.472067       66.271340   \n",
       "std     82330.135857       1.161369         2508.764234       29.304236   \n",
       "min         1.000000    2013.000000          101.000000        2.000000   \n",
       "25%     71252.750000    2014.000000         3001.000000       42.000000   \n",
       "50%    142504.500000    2015.000000         4301.000000       70.000000   \n",
       "75%    213756.250000    2016.000000         7031.000000       88.000000   \n",
       "max    285208.000000    2016.000000         8702.000000       98.000000   \n",
       "\n",
       "           Job Class  \n",
       "count  285008.000000  \n",
       "mean     3051.039967  \n",
       "std      2038.694130  \n",
       "min         1.000000  \n",
       "25%      1960.000000  \n",
       "50%      2234.000000  \n",
       "75%      3580.000000  \n",
       "max      9998.000000  "
      ]
     },
     "execution_count": 34,
     "metadata": {},
     "output_type": "execute_result"
    }
   ],
   "source": [
    "payroll.describe()"
   ]
  },
  {
   "cell_type": "markdown",
   "metadata": {
    "_cell_guid": "22cbceb4-cca4-9fe1-82e9-667a35f7b655"
   },
   "source": [
    "**Data Cleansing**"
   ]
  },
  {
   "cell_type": "code",
   "execution_count": 35,
   "metadata": {
    "_cell_guid": "9c8a29ff-6f6b-6156-8cbc-32ab3ca32ad5"
   },
   "outputs": [],
   "source": [
    "payroll = payroll[pd.notnull(payroll['Payroll Department'])]\n",
    "payroll.rename(columns={'Projected Annual Salary' : 'Annual_sal'}, inplace = True)\n",
    "payroll.rename(columns={'Job Class Title' : 'Job_title'}, inplace = True)\n",
    "payroll.rename(columns={'Base Pay' : 'Base_Pay'}, inplace = True)"
   ]
  },
  {
   "cell_type": "code",
   "execution_count": 36,
   "metadata": {
    "_cell_guid": "14c499e4-c66b-d358-1c78-c40e5ef5948b"
   },
   "outputs": [],
   "source": [
    "for i in ['Annual_sal','Q1 Payments','Q2 Payments','Q3 Payments','Q4 Payments','Payments Over Base Pay',\n",
    "          'Total Payments','Base_Pay','Permanent Bonus Pay','Longevity Bonus Pay','Temporary Bonus Pay','Overtime Pay',\n",
    "          'Other Pay & Adjustments','Other Pay (Payroll Explorer)','Average Health Cost','Average Dental Cost',\n",
    "          'Average Basic Life','Average Benefit Cost']:\n",
    "    payroll[i] = payroll[i].str.replace('$','')"
   ]
  },
  {
   "cell_type": "markdown",
   "metadata": {
    "_cell_guid": "c6862512-0f12-d11f-9dfb-5ed1b6b5350d"
   },
   "source": [
    "**Outlier removal**"
   ]
  },
  {
   "cell_type": "code",
   "execution_count": 37,
   "metadata": {
    "_cell_guid": "af8308fc-8a70-a7be-92c5-c16f1a2f30cf"
   },
   "outputs": [],
   "source": [
    "payroll = payroll[payroll.Annual_sal != 0]  \n",
    "payroll = payroll[payroll.Base_Pay != 0]\n",
    "payroll.Annual_sal = payroll.Annual_sal.astype(float)\n",
    "payroll.Base_Pay = payroll.Base_Pay.astype(float)"
   ]
  },
  {
   "cell_type": "code",
   "execution_count": 38,
   "metadata": {
    "_cell_guid": "8d21c2cb-5cd0-6029-c73c-16d81168c93b"
   },
   "outputs": [
    {
     "data": {
      "text/plain": [
       "<matplotlib.axes._subplots.AxesSubplot at 0x7fdd68ea6780>"
      ]
     },
     "execution_count": 38,
     "metadata": {},
     "output_type": "execute_result"
    },
    {
     "data": {
      "image/png": "[encoded data removed]",
      "text/plain": [
       "<Figure size 864x432 with 1 Axes>"
      ]
     },
     "metadata": {
      "needs_background": "light"
     },
     "output_type": "display_data"
    }
   ],
   "source": [
    "plt.figure(figsize = (12,6))\n",
    "sns.distplot(payroll.Annual_sal,color = 'darkgreen')"
   ]
  },
  {
   "cell_type": "markdown",
   "metadata": {
    "_cell_guid": "641b8314-8549-4161-d70c-8929d0ff1028"
   },
   "source": [
    "**Creating different Sample  from the population**"
   ]
  },
  {
   "cell_type": "code",
   "execution_count": 39,
   "metadata": {
    "_cell_guid": "8c5a578a-06c6-9db9-30db-95a9ad7d7c55"
   },
   "outputs": [],
   "source": [
    "payroll_2015 = payroll[payroll.Year ==2015]\n",
    "payroll_2016 = payroll[payroll.Year ==2016]"
   ]
  },
  {
   "cell_type": "markdown",
   "metadata": {
    "_cell_guid": "7e402c97-0a74-fad3-7343-cd64719400a4"
   },
   "source": [
    "**Calculating the Population Parameters**"
   ]
  },
  {
   "cell_type": "code",
   "execution_count": 40,
   "metadata": {
    "_cell_guid": "78af4e8c-b491-1802-26e9-f28fd8218fe1"
   },
   "outputs": [
    {
     "name": "stdout",
     "output_type": "stream",
     "text": [
      "Population Mean: 76046.39152504776\n",
      "Population Standard Deviation: 34232.25489729045\n"
     ]
    }
   ],
   "source": [
    "pop_mean_2015 = payroll_2015['Annual_sal'].mean()\n",
    "pop_std_2015 = statistics.stdev(payroll_2015.Annual_sal)\n",
    "print(\"Population Mean: \"+str(pop_mean_2015))\n",
    "print(\"Population Standard Deviation: \"+str(pop_std_2015))"
   ]
  },
  {
   "cell_type": "markdown",
   "metadata": {
    "_cell_guid": "f7fc0bb7-c6b2-ec72-e56c-e9428fa67f8f"
   },
   "source": [
    "**Calculating the Sample Parameters**"
   ]
  },
  {
   "cell_type": "code",
   "execution_count": 41,
   "metadata": {
    "_cell_guid": "59bd0435-89ef-e041-343b-8b64d2d82c3c"
   },
   "outputs": [
    {
     "name": "stdout",
     "output_type": "stream",
     "text": [
      "Sample Mean: 78792.96653850452\n",
      "Sample Standard Deviation: 33241.527269478385\n"
     ]
    }
   ],
   "source": [
    "# print(\"Population Mean: \"+str(payroll_2016['Annual_sal'].mean()))\n",
    "payroll_2016_sample = payroll_2016.sample(frac=0.10)\n",
    "sample_mean_2016 = payroll_2016_sample['Annual_sal'].mean()\n",
    "print(\"Sample Mean: \"+str(sample_mean_2016))\n",
    "sample_std_2016 = statistics.stdev(payroll_2016_sample.Annual_sal)\n",
    "print(\"Sample Standard Deviation: \"+str(sample_std_2016))"
   ]
  },
  {
   "cell_type": "code",
   "execution_count": 42,
   "metadata": {},
   "outputs": [],
   "source": [
    "N = len(payroll_2016_sample)"
   ]
  },
  {
   "cell_type": "markdown",
   "metadata": {
    "_cell_guid": "128407af-dcf5-5092-1529-41fdc4859db9"
   },
   "source": [
    "**Hypothesis Testing**"
   ]
  },
  {
   "cell_type": "markdown",
   "metadata": {
    "_cell_guid": "6e981fd5-2b23-a17a-a4cb-edbdb9f5fefd"
   },
   "source": [
    "<b>Normal distribution - Z test</b><br><br>\n",
    "<b>Null Hypothesis</b> : Pay does not increase in 2016<br>\n",
    "<b>Alternate Hypothesis</b>: It increases<br>\n",
    "<b>Population parameters</b>: Mean = pop_mean_2015, standard deviation = pop_std_2015<br>\n",
    "<b>Sample parameters</b> :   Mean = sample_mean_2016, standard deviation = sample_std_2016<br>"
   ]
  },
  {
   "cell_type": "code",
   "execution_count": 53,
   "metadata": {
    "_cell_guid": "4b09beb1-4545-3921-ffdb-1e02108cbf84"
   },
   "outputs": [],
   "source": [
    "import math\n",
    "# Confidence Level 95 %  for one sided Normal curve\n",
    "zscore_critical = 1.65 \n",
    "critical_level_of_significance = z_to_p_distribution(1.65)\n",
    "# Calculate the test statistics "
   ]
  },
  {
   "cell_type": "markdown",
   "metadata": {},
   "source": [
    "![](https://i.stack.imgur.com/0Ojpu.png)"
   ]
  },
  {
   "cell_type": "code",
   "execution_count": 55,
   "metadata": {
    "_cell_guid": "4b09beb1-4545-3921-ffdb-1e02108cbf84"
   },
   "outputs": [],
   "source": [
    "zscore_test_stat = ((sample_mean_2016 - pop_mean_2015)*math.sqrt(N))/pop_std_2015\n",
    "test_p_value = z_to_p_distribution(zscore_test_stat)"
   ]
  },
  {
   "cell_type": "code",
   "execution_count": 56,
   "metadata": {},
   "outputs": [
    {
     "name": "stdout",
     "output_type": "stream",
     "text": [
      "Null hypothesis rejected ..\n"
     ]
    }
   ],
   "source": [
    "if test_p_value < critical_level_of_significance:\n",
    "    print(\"Null hypothesis rejected ..\")\n",
    "else:\n",
    "    print(\"Failed to reject null hypothesis rejected ..\")"
   ]
  },
  {
   "cell_type": "markdown",
   "metadata": {
    "_cell_guid": "c1172db8-c85a-481d-8239-540955253c68"
   },
   "source": [
    "<b>Conclusion</b>: As the test statistics fall into the rejection region the null hypothesis is rejected<br>\n",
    "and it can be concluded that the Annual salaries increase in 2016."
   ]
  },
  {
   "cell_type": "markdown",
   "metadata": {
    "_cell_guid": "3d8a94fb-41f1-08ad-9ad4-3ba03f2f14ba"
   },
   "source": [
    "**Student T-distribution**<br>\n",
    "**Null Hypothesis**: pay does not increase in 2016<br>\n",
    "**Alternate Hypothesis**: it increases<br>\n",
    "**Population parameters**: Mean = pop_mean_2015, standard deviation = pop_std_2015<br>\n",
    "**Sample parameters** : Mean = sample_mean_2016, standard deviation = sample_std_2016<br>"
   ]
  },
  {
   "cell_type": "code",
   "execution_count": 21,
   "metadata": {
    "_cell_guid": "30cec429-224a-6591-fb91-45fa911890fc"
   },
   "outputs": [],
   "source": [
    "#Calculating the Sample Parameters**\n",
    "payroll_2014 = payroll[payroll.Year ==2014]\n",
    "payroll_2015 = payroll[payroll.Year ==2015]\n",
    "# Creating Sample distribution for T statistics\n",
    "payroll_t_2015_sample = payroll_2015.sample(frac=0.00062)"
   ]
  },
  {
   "cell_type": "code",
   "execution_count": 22,
   "metadata": {
    "_cell_guid": "e4159db7-02aa-a0f3-37c0-f6c632decf0a"
   },
   "outputs": [],
   "source": [
    "# payroll_t_2015_sample = payroll_2015.sample(frac=0.00062)\n",
    "N = len(payroll_t_2015_sample)\n",
    "sample_mean_2015 = payroll_t_2015_sample['Annual_sal'].mean()\n",
    "sample_std_2015 = statistics.stdev(payroll_t_2015_sample.Annual_sal)\n",
    "pop_std_2014  = statistics.stdev(payroll_2014.Annual_sal)\n",
    "pop_mean_2014 = payroll_2014['Annual_sal'].mean()"
   ]
  },
  {
   "cell_type": "code",
   "execution_count": 23,
   "metadata": {
    "_cell_guid": "f4505916-91db-2189-4097-43f567b5c583"
   },
   "outputs": [
    {
     "name": "stdout",
     "output_type": "stream",
     "text": [
      "0.38653857613892795\n"
     ]
    }
   ],
   "source": [
    "# Confidence Level 95 %  for one sided T curve\n",
    "t_critical = 1.311\n",
    "\n",
    "# Calculate the test statistics \n",
    "tscore_test_stat = ((sample_mean_2015 - pop_mean_2014)*math.sqrt(N))/sample_std_2015\n",
    "\n",
    "print(tscore_test_stat)"
   ]
  },
  {
   "cell_type": "markdown",
   "metadata": {
    "_cell_guid": "04e74bc0-16a9-d53e-2dbf-938f7a988a42"
   },
   "source": [
    "Depending on the Test score , we can accept/Reject the Null"
   ]
  },
  {
   "cell_type": "markdown",
   "metadata": {},
   "source": [
    "## T-score vs. z-score: When to use a t score\n",
    "\n",
    "The general rule of thumb for when to use a t score is when your sample:\n",
    "\n",
    "* Has a sample size below 30,\n",
    "* Has an unknown population standard deviation.\n",
    "\n",
    "> You must know the standard deviation of the population and your sample size should be above 30 in order for you to be able to use the z-score. "
   ]
  },
  {
   "cell_type": "markdown",
   "metadata": {},
   "source": [
    "Like z-scores, t-scores are also a conversion of individual scores into a standard form. However, t-scores are used when you don’t know the population standard deviation; You make an estimate by using your sample.\n",
    "$$T = (X – μ) / [ s/√(n) ]$$\n",
    "\n",
    "Where:\n",
    "s is the standard deviation of the sample.\n",
    "\n",
    "If you have a larger sample (over 30), the t-distribution and z-distribution look pretty much the same. Therefore, you can use either. That said, if you know σ, it doesn’t make much sense to use a sample estimate instead of the “real thing”, so just substitute σ into the equation in place of s:\n",
    "\n",
    "$$T = (X – μ) / [ σ/√(n) ].$$\n",
    "\n",
    "This makes the equation identical to the one for the z-score; the only difference is you’re looking up the result in the T table, not the Z-table. \n",
    "\n",
    "For sample sizes over 30, you’ll get the same result.\n",
    "\n",
    "> for z-table lookup :\n",
    "\n",
    "**p = 1 - stats.norm.cdf(z)**\n",
    "\n",
    "> for t-table lookup : \n",
    "\n",
    "**p = 1 - stats.t.cdf(t,df=df)**"
   ]
  },
  {
   "cell_type": "markdown",
   "metadata": {},
   "source": [
    "## F Test **\n",
    "\n",
    "This is a generalisation of t-test for more than two samples.\n",
    "\n",
    "The one-way analysis of variance (ANOVA) is used to determine whether there are any statistically significant differences between the means of three or more independent (unrelated) groups.\n",
    "\n",
    "The means from three different samples are compared using ANOVA.\n",
    "\n",
    "The one-way ANOVA compares the means between the groups you are interested in and determines whether any of those means are statistically significantly different from each other. Specifically, it tests the null hypothesis:\n",
    "\n",
    "$$H0  = \\mu1 = \\mu2 = \\mu3 = ... = \\mu j $$"
   ]
  },
  {
   "cell_type": "code",
   "execution_count": 24,
   "metadata": {
    "_cell_guid": "d1ad5c0f-1081-aaf0-c2a4-440c6b7320e0"
   },
   "outputs": [],
   "source": [
    "payroll_2014 = payroll[payroll.Year ==2014]\n",
    "\n",
    "payroll_2014_elec = payroll_2014[payroll_2014.Job_title == 'Electrician']\n",
    "payroll_2015_elec = payroll_2015[payroll_2015.Job_title == 'Electrician']\n",
    "payroll_2016_elec = payroll_2016[payroll_2016.Job_title == 'Electrician']"
   ]
  },
  {
   "cell_type": "code",
   "execution_count": 25,
   "metadata": {
    "_cell_guid": "d1ad5c0f-1081-aaf0-c2a4-440c6b7320e0"
   },
   "outputs": [
    {
     "name": "stdout",
     "output_type": "stream",
     "text": [
      "Sample Mean 2014 71658.01057142856\n"
     ]
    }
   ],
   "source": [
    "sample_elec_2014 = payroll_2014_elec.sample(frac=0.47)\n",
    "sample_elec_mean_2014 = sample_elec_2014['Base_Pay'].mean()\n",
    "print(\"Sample Mean 2014 \"+str(sample_elec_mean_2014))"
   ]
  },
  {
   "cell_type": "code",
   "execution_count": 26,
   "metadata": {
    "_cell_guid": "d1ad5c0f-1081-aaf0-c2a4-440c6b7320e0"
   },
   "outputs": [
    {
     "name": "stdout",
     "output_type": "stream",
     "text": [
      "Sample Mean 2015 71171.71771428571\n"
     ]
    }
   ],
   "source": [
    "sample_elec_2015 = payroll_2015_elec.sample(frac=0.41)\n",
    "sample_elec_mean_2015 = sample_elec_2015['Base_Pay'].mean()\n",
    "print(\"Sample Mean 2015 \"+str(sample_elec_mean_2015))"
   ]
  },
  {
   "cell_type": "code",
   "execution_count": 27,
   "metadata": {
    "_cell_guid": "d1ad5c0f-1081-aaf0-c2a4-440c6b7320e0"
   },
   "outputs": [
    {
     "name": "stdout",
     "output_type": "stream",
     "text": [
      "Sample Mean 2016 33657.04200000001\n"
     ]
    }
   ],
   "source": [
    "sample_elec_2016 = payroll_2016_elec.sample(frac=0.22)\n",
    "sample_elec_mean_2016 = sample_elec_2016['Base_Pay'].mean()\n",
    "print(\"Sample Mean 2016 \"+str(sample_elec_mean_2016))"
   ]
  },
  {
   "cell_type": "code",
   "execution_count": 28,
   "metadata": {
    "_cell_guid": "d1ad5c0f-1081-aaf0-c2a4-440c6b7320e0"
   },
   "outputs": [],
   "source": [
    "# Creating the Samples of the base pays over three years\n",
    "sam_1 = sample_elec_2014.Base_Pay\n",
    "sam_2 = sample_elec_2015.Base_Pay\n",
    "sam_3 = sample_elec_2016.Base_Pay"
   ]
  },
  {
   "cell_type": "markdown",
   "metadata": {
    "_cell_guid": "6c0f7e3e-d2eb-18cb-d14d-c8b45ef950ec"
   },
   "source": [
    "**Calculating the test statistics**"
   ]
  },
  {
   "cell_type": "code",
   "execution_count": 29,
   "metadata": {
    "_cell_guid": "d10bc03b-262c-7774-706e-f48e71e4da10"
   },
   "outputs": [
    {
     "name": "stdout",
     "output_type": "stream",
     "text": [
      "F value: 45.471367430040885\n",
      "P value: 7.616559226913299e-15 \n",
      "\n"
     ]
    }
   ],
   "source": [
    "f, p = stats.f_oneway(sam_1, sam_2, sam_3 )\n",
    "print ('F value:', f)\n",
    "print ('P value:', p, '\\n')"
   ]
  },
  {
   "cell_type": "markdown",
   "metadata": {
    "_cell_guid": "1d785156-ace9-6d45-96fa-d8e2b61b7f77"
   },
   "source": [
    "P value is very low, hence null hypothesis is rejected"
   ]
  },
  {
   "cell_type": "markdown",
   "metadata": {},
   "source": [
    "## Type 1 and Type 2 Error :\n",
    "    \n",
    "**In statistical hypothesis testing, a type I error is the rejection of a true null hypothesis (also known as a \"false positive\" finding), while a type II error is failing to reject a false null hypothesis (also known as a \"false negative\" finding).***\n",
    "    \n",
    "![](http://1.bp.blogspot.com/-Mul2LyO5p00/UF1WPQckhmI/AAAAAAAAAWY/Tqqz1tAupDM/s1600/Picture3-1024x896.png)    \n",
    "        \n"
   ]
  },
  {
   "cell_type": "code",
   "execution_count": null,
   "metadata": {
    "_cell_guid": "a3f16fb0-75c6-e49c-4c90-31ee0f8e97be",
    "collapsed": true
   },
   "outputs": [],
   "source": []
  }
 ],
 "metadata": {
  "_change_revision": 0,
  "_is_fork": false,
  "kernelspec": {
   "display_name": "Data_Science",
   "language": "python",
   "name": "data_science"
  },
  "language_info": {
   "codemirror_mode": {
    "name": "ipython",
    "version": 3
   },
   "file_extension": ".py",
   "mimetype": "text/x-python",
   "name": "python",
   "nbconvert_exporter": "python",
   "pygments_lexer": "ipython3",
   "version": "3.6.6"
  }
 },
 "nbformat": 4,
 "nbformat_minor": 1
}
